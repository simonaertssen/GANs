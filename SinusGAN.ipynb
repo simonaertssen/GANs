{
 "cells": [
  {
   "cell_type": "markdown",
   "metadata": {},
   "source": [
    "Here we will improve on the simple GAN developed before to make a sine wave signal"
   ]
  },
  {
   "cell_type": "code",
   "execution_count": 1,
   "metadata": {},
   "outputs": [],
   "source": [
    "import torch\n",
    "import os\n",
    "import matplotlib.pyplot as plt\n",
    "from tqdm.notebook import trange\n",
    "pi = 3.14159265359"
   ]
  },
  {
   "cell_type": "code",
   "execution_count": 2,
   "metadata": {},
   "outputs": [],
   "source": [
    "# Labels:\n",
    "T = 0.99\n",
    "F = 0.01"
   ]
  },
  {
   "cell_type": "markdown",
   "metadata": {},
   "source": [
    "### Resources for training: \n",
    "https://medium.com/@utk.is.here/keep-calm-and-train-a-gan-pitfalls-and-tips-on-training-generative-adversarial-networks-edd529764aa9\n",
    "\n",
    "https://mc.ai/how-to-implement-gan-hacks-to-train-stable-generative-adversarial-networks/"
   ]
  },
  {
   "cell_type": "markdown",
   "metadata": {},
   "source": [
    "## Define the networks"
   ]
  },
  {
   "cell_type": "code",
   "execution_count": 3,
   "metadata": {},
   "outputs": [
    {
     "name": "stdout",
     "output_type": "stream",
     "text": [
      "Generator(\n",
      "  (layers): ModuleList(\n",
      "    (0): Linear(in_features=10, out_features=4, bias=True)\n",
      "    (1): Linear(in_features=4, out_features=8, bias=True)\n",
      "    (2): Linear(in_features=8, out_features=9, bias=True)\n",
      "    (3): Linear(in_features=9, out_features=2, bias=True)\n",
      "  )\n",
      "  (batchnorm): BatchNorm1d(10, eps=1e-05, momentum=0.1, affine=True, track_running_stats=True)\n",
      "  (dropout): Dropout(p=0.3, inplace=False)\n",
      "  (activation): LeakyReLU(negative_slope=0.2)\n",
      ")\n"
     ]
    }
   ],
   "source": [
    "class Generator(torch.nn.Module):\n",
    "    # Takes a value on the domain and makes a prediction.\n",
    "    def __init__(self, nodecount, lr):\n",
    "        super(Generator, self).__init__()\n",
    "        self.latentsize = 10\n",
    "        if isinstance(nodecount, int):\n",
    "            self.layercount = layercount\n",
    "            self.nodecount = [self.latentspace, nodecount, 2]\n",
    "        elif isinstance(nodecount, list):\n",
    "            self.layercount = len(nodecount)\n",
    "            nodecount.insert(0, self.latentsize)\n",
    "            nodecount.append(2)\n",
    "            self.nodecount = nodecount\n",
    "            \n",
    "        self.layers     = torch.nn.ModuleList()\n",
    "        self.batchnorm  = torch.nn.BatchNorm1d(self.latentsize)\n",
    "        self.dropout    = torch.nn.Dropout(p=0.3)\n",
    "        self.dropoutidx = 1\n",
    "        \n",
    "        # LeakyReLU is highly recommended for GANs\n",
    "        self.activation = torch.nn.LeakyReLU(0.2)\n",
    "        self.lr         = lr\n",
    "\n",
    "        for i, layer in enumerate(range(self.layercount+1)):\n",
    "            layer_to_add = torch.nn.Linear(self.nodecount[i], self.nodecount[i+1])\n",
    "            torch.nn.init.normal_(layer_to_add.weight, mean=0, std=0.02)\n",
    "            self.layers.append(layer_to_add)\n",
    "                    \n",
    "    def sample(self, batchsize, variance=1.0):\n",
    "        return self(torch.autograd.Variable(torch.randn((batchsize, self.latentsize))*variance))\n",
    "    \n",
    "    def forward(self, x):\n",
    "        x = self.batchnorm(x)\n",
    "        for index, layer in enumerate(range(self.layercount)):\n",
    "            if index == self.dropoutidx:\n",
    "                x = self.dropout(x)\n",
    "            x = self.activation(self.layers[layer](x))\n",
    "        return self.layers[-1](x)\n",
    "    \n",
    "testlist = [4, 8, 9]\n",
    "g = Generator(testlist, 0.1)\n",
    "print(g)"
   ]
  },
  {
   "cell_type": "code",
   "execution_count": 4,
   "metadata": {},
   "outputs": [
    {
     "name": "stdout",
     "output_type": "stream",
     "text": [
      "Discriminator(\n",
      "  (layers): ModuleList(\n",
      "    (0): Linear(in_features=2, out_features=15, bias=True)\n",
      "    (1): Linear(in_features=15, out_features=188, bias=True)\n",
      "    (2): Linear(in_features=188, out_features=1, bias=True)\n",
      "  )\n",
      "  (batchnorm): BatchNorm1d(2, eps=1e-05, momentum=0.1, affine=True, track_running_stats=True)\n",
      "  (dropout): Dropout(p=0.3, inplace=False)\n",
      "  (activation): LeakyReLU(negative_slope=0.2)\n",
      ")\n"
     ]
    }
   ],
   "source": [
    "class Discriminator(torch.nn.Module):\n",
    "    # Takes a value on the domain and makes a prediction.\n",
    "    def __init__(self, nodecount, lr):\n",
    "        super(Discriminator, self).__init__()\n",
    "        if isinstance(nodecount, int):\n",
    "            self.layercount = layercount\n",
    "            self.nodecount = [2, nodecount, 1]\n",
    "        elif isinstance(nodecount, list):\n",
    "            self.layercount = len(nodecount)\n",
    "            nodecount.insert(0, 2)\n",
    "            nodecount.append(1)\n",
    "            self.nodecount = nodecount\n",
    "            \n",
    "        self.layers     = torch.nn.ModuleList()\n",
    "        self.batchnorm  = torch.nn.BatchNorm1d(2)\n",
    "        self.dropout    = torch.nn.Dropout(p=0.3)\n",
    "        self.dropoutidx = 1\n",
    "        \n",
    "        #self.activation = torch.nn.ReLU()\n",
    "        self.activation = torch.nn.LeakyReLU(0.2)\n",
    "        self.lr         = lr\n",
    "\n",
    "        for i, layer in enumerate(range(self.layercount+1)):\n",
    "            layer_to_add = torch.nn.Linear(self.nodecount[i], self.nodecount[i+1])\n",
    "            torch.nn.init.normal_(layer_to_add.weight, mean=0, std=0.02)\n",
    "            self.layers.append(layer_to_add)\n",
    "            \n",
    "    def forward(self, x):\n",
    "        x = self.batchnorm(x)\n",
    "        for index, layer in enumerate(range(self.layercount+1)):\n",
    "            if index == self.dropoutidx:\n",
    "                x = self.dropout(x)\n",
    "            x = self.activation(self.layers[layer](x))\n",
    "        return torch.sigmoid(x)\n",
    "    \n",
    "testlist = [15, 188]\n",
    "d = Discriminator(testlist, 0.1)\n",
    "print(d)"
   ]
  },
  {
   "cell_type": "code",
   "execution_count": 5,
   "metadata": {},
   "outputs": [],
   "source": [
    "class GANtrainer():\n",
    "    def __init__(self, generator, discriminator):\n",
    "        super(GANtrainer, self).__init__()\n",
    "        self.generator     = generator\n",
    "        self.discriminator = discriminator\n",
    "        self.genreps       = 2\n",
    "        self.testfrequency = 5\n",
    "        self.criterion     = torch.nn.BCELoss()\n",
    "        \n",
    "        self.true_label  = None\n",
    "        self.fake_label  = None\n",
    "\n",
    "    def getDomainValues(self, shape=None, limits=None):\n",
    "        if shape is None:\n",
    "            shape = (self.batchsize, 1)\n",
    "        low, high = (0, 2*torch.pi) if limits == None else limits\n",
    "        return torch.rand(shape)*(high - low) + low\n",
    "    \n",
    "    # Fitfunction to be declared outside of training agent\n",
    "    def fitFunction(self, domainValues):\n",
    "        pass\n",
    "        \n",
    "    def makeTrueData(self, shape, limits):\n",
    "        true_domain  = self.getDomainValues(shape, limits)\n",
    "        true_target  = self.fitFunction(true_domain)\n",
    "        true_data    = torch.autograd.Variable(torch.cat((true_domain, true_target), -1))\n",
    "        return true_data\n",
    "\n",
    "    def train(self, epochs, batchsize, limits, prnt=False):\n",
    "        self.epochs     = epochs\n",
    "        self.batchsize  = batchsize\n",
    "        self.limits     = limits\n",
    "        self.true_label = torch.autograd.Variable(T*torch.ones(self.batchsize,1))\n",
    "        self.fake_label = torch.autograd.Variable(F*torch.ones(self.batchsize,1))\n",
    "        datashape = (self.batchsize, 1)\n",
    "            \n",
    "        self.discriminator_true_loss = []\n",
    "        self.discriminator_fake_loss = []\n",
    "        self.generator_loss          = []\n",
    "        self.performance             = []\n",
    "        \n",
    "        epochdescriptor = trange(epochs, desc=\"Start training\", leave=True, ncols=900)\n",
    "        current_performance = 0\n",
    "        for epoch in epochdescriptor:\n",
    "            # Add noise to the labels for the discriminator (not required for generator):\n",
    "            noisy_true = torch.FloatTensor(self.batchsize,1).uniform_(0.9, 1.0)\n",
    "            noisy_fake = torch.FloatTensor(self.batchsize,1).uniform_(0, 0.1)\n",
    "            # Add up to 5% of wrong labels:\n",
    "            idx = noisy_true < 0.9 + 5/100 * (1.0 - 0.9)\n",
    "            noisy_true[idx] = 1 - noisy_true[idx]\n",
    "            idx = noisy_fake > 0.1 - 5/100 * (0.1 - 0.0)\n",
    "            noisy_fake[idx] = 1 - noisy_fake[idx]\n",
    "            \n",
    "            # Train discriminator on true data:\n",
    "            self.discriminator.zero_grad()\n",
    "            true_data     = self.makeTrueData(datashape, limits)\n",
    "            true_decision = self.discriminator(true_data)\n",
    "            true_error    = self.criterion(true_decision, noisy_true)\n",
    "            self.discriminator_true_loss.append(true_error.item())\n",
    "            true_error.backward()\n",
    "\n",
    "            # Train discriminator on fake data:\n",
    "            fake_data     = self.generator.sample(self.batchsize).detach()\n",
    "            fake_decision = self.discriminator(fake_data)\n",
    "            fake_error    = self.criterion(fake_decision, noisy_fake)\n",
    "            self.discriminator_fake_loss.append(fake_error.item())\n",
    "            fake_error.backward()\n",
    "            self.discriminator_optimizer.step()\n",
    "\n",
    "            # Train only generator on discriminator's response, using flipped labels\n",
    "            g_loss = 0\n",
    "            for genrep in range(self.genreps):\n",
    "                self.generator.zero_grad()\n",
    "                generator_data     = self.generator.sample(self.batchsize)\n",
    "                generator_decision = self.discriminator(generator_data)\n",
    "                generator_error    = self.criterion(generator_decision, self.true_label)\n",
    "                g_loss             = g_loss + generator_error.item()\n",
    "                generator_error.backward()\n",
    "            self.generator_optimizer.step()\n",
    "            self.generator_loss.append(g_loss/self.genreps)\n",
    "            \n",
    "            # Test the performance:\n",
    "            if epoch % self.testfrequency == 0:\n",
    "                current_performance = self.test(50, prnt=False)\n",
    "                self.performance.append(current_performance)\n",
    "                if epoch > epochs/2 and current_performance > 0.95:\n",
    "                    break\n",
    "                \n",
    "            epochdescriptor.set_description(\"G = {:.3f}, D_true = {:.3f}, D_fake = {:.3f}, % = {:.2f}\".format(\n",
    "                self.generator_loss[-1], self.discriminator_true_loss[-1], self.discriminator_fake_loss[-1],\n",
    "                current_performance))\n",
    "            epochdescriptor.refresh()\n",
    "                        \n",
    "        if prnt:\n",
    "            fig = plt.figure(figsize=(10,5))\n",
    "            plt.title('GAN training losses')\n",
    "            plt.plot(range(epochs), self.generator_loss, label='Generator loss')\n",
    "            plt.plot(range(epochs), self.discriminator_true_loss, label='Discriminator true loss')\n",
    "            plt.plot(range(epochs), self.discriminator_fake_loss, label='Discriminator fake loss')\n",
    "            #plt.plot(range(0,epochs,self.testfrequency), self.performance, label='Performance')\n",
    "\n",
    "            plt.grid('True')\n",
    "            plt.legend()\n",
    "    \n",
    "    def test(self, batchsize, prnt=True):\n",
    "        self.generator.eval()\n",
    "        datashape   = (batchsize, 1)\n",
    "        true_domain = self.getDomainValues(datashape, self.limits)\n",
    "        true_value  = self.fitFunction(true_domain)\n",
    "        \n",
    "        prediction  = self.generator.sample(batchsize).detach()\n",
    "        pred_domain = prediction[:,0].reshape(batchsize, 1)\n",
    "        pred_target = prediction[:,1].reshape(batchsize, 1)\n",
    "\n",
    "        pred_labels = torch.round(self.discriminator(prediction).detach())\n",
    "        pred_true   = torch.where(pred_labels >= 0.9)[0]\n",
    "        pred_fake   = torch.where(pred_labels <= 0.1)[0]\n",
    "        \n",
    "        if prnt:\n",
    "            fig = plt.figure(figsize=(10,5))\n",
    "            plt.title('Testing the trained GAN')\n",
    "            plt.scatter(true_domain, true_value)\n",
    "            plt.scatter(pred_domain, prediction[:,1])\n",
    "            plt.scatter(pred_domain[pred_true], pred_target[pred_true], c='g')\n",
    "            plt.scatter(pred_domain[pred_fake], pred_target[pred_fake], c='r')\n",
    "            plt.grid('True')\n",
    "\n",
    "            plt.show()\n",
    "            plt.close()\n",
    "        else:\n",
    "            return pred_true.numel()/batchsize\n"
   ]
  },
  {
   "cell_type": "markdown",
   "metadata": {},
   "source": [
    "## Training setup:"
   ]
  },
  {
   "cell_type": "code",
   "execution_count": 6,
   "metadata": {},
   "outputs": [
    {
     "data": {
      "application/vnd.jupyter.widget-view+json": {
       "model_id": "868895ac04b049f1a868442c07da6eb7",
       "version_major": 2,
       "version_minor": 0
      },
      "text/plain": [
       "HBox(children=(FloatProgress(value=0.0, description='Start training', layout=Layout(flex='2'), max=2000.0, sty…"
      ]
     },
     "metadata": {},
     "output_type": "display_data"
    },
    {
     "name": "stdout",
     "output_type": "stream",
     "text": [
      "\n"
     ]
    },
    {
     "data": {
      "image/png": "[encoded data removed]",
      "text/plain": [
       "<Figure size 720x360 with 1 Axes>"
      ]
     },
     "metadata": {
      "needs_background": "light"
     },
     "output_type": "display_data"
    },
    {
     "data": {
      "image/png": "[encoded data removed]",
      "text/plain": [
       "<Figure size 720x360 with 1 Axes>"
      ]
     },
     "metadata": {
      "needs_background": "light"
     },
     "output_type": "display_data"
    }
   ],
   "source": [
    "g = Generator([25], 0.005)\n",
    "d = Discriminator([25], 0.002)\n",
    "\n",
    "def square(x):\n",
    "    return x*x\n",
    "\n",
    "trainer = GANtrainer(g, d)\n",
    "trainer.fitFunction = square\n",
    "\n",
    "trainer.generator_optimizer = torch.optim.Adam(g.parameters(), lr=g.lr, weight_decay=1.0e-4)\n",
    "trainer.discriminator_optimizer = torch.optim.Adam(d.parameters(), lr=d.lr, weight_decay=1.0e-4)\n",
    "\n",
    "trainer.train(epochs=2000, batchsize=32, limits=(-1, 1), prnt=True)\n",
    "\n",
    "trainer.test(100)\n",
    "#os.system(\"beep -f 555 -l 460\")"
   ]
  },
  {
   "cell_type": "code",
   "execution_count": null,
   "metadata": {},
   "outputs": [],
   "source": []
  },
  {
   "cell_type": "code",
   "execution_count": null,
   "metadata": {},
   "outputs": [],
   "source": []
  },
  {
   "cell_type": "code",
   "execution_count": null,
   "metadata": {},
   "outputs": [],
   "source": []
  },
  {
   "cell_type": "code",
   "execution_count": null,
   "metadata": {},
   "outputs": [],
   "source": []
  },
  {
   "cell_type": "code",
   "execution_count": null,
   "metadata": {},
   "outputs": [],
   "source": []
  }
 ],
 "metadata": {
  "kernelspec": {
   "display_name": "Python 3",
   "language": "python",
   "name": "python3"
  },
  "language_info": {
   "codemirror_mode": {
    "name": "ipython",
    "version": 3
   },
   "file_extension": ".py",
   "mimetype": "text/x-python",
   "name": "python",
   "nbconvert_exporter": "python",
   "pygments_lexer": "ipython3",
   "version": "3.7.3"
  }
 },
 "nbformat": 4,
 "nbformat_minor": 2
}
